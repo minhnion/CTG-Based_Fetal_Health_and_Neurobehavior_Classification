{
 "cells": [
  {
   "cell_type": "code",
   "execution_count": 49,
   "id": "9078c4eb",
   "metadata": {},
   "outputs": [],
   "source": [
    "import os\n",
    "import pandas as pd\n",
    "import numpy as np\n",
    "\n",
    "from sklearn.model_selection import RandomizedSearchCV, GridSearchCV, StratifiedKFold\n",
    "from sklearn.preprocessing import StandardScaler\n",
    "from sklearn.decomposition import PCA\n",
    "from sklearn.feature_selection import SelectKBest, f_classif\n",
    "from sklearn.neighbors import KNeighborsClassifier\n",
    "from sklearn.metrics import accuracy_score, classification_report, confusion_matrix\n",
    "\n",
    "from imblearn.over_sampling import SMOTE\n",
    "from imblearn.pipeline import Pipeline as ImbPipeline\n",
    "from scipy.stats import randint, uniform"
   ]
  },
  {
   "cell_type": "markdown",
   "id": "afa565d3",
   "metadata": {},
   "source": [
    "# 1. Đọc dữ lệu"
   ]
  },
  {
   "cell_type": "code",
   "execution_count": 22,
   "id": "1b5dd2d3",
   "metadata": {},
   "outputs": [
    {
     "name": "stdout",
     "output_type": "stream",
     "text": [
      "Train: (1721, 23) Val: (192, 23) Test: (213, 23)\n"
     ]
    }
   ],
   "source": [
    "DATA_DIR = \"../data/cleaned_data\"\n",
    "\n",
    "train_df = pd.read_csv(os.path.join(DATA_DIR, \"train.csv\"))\n",
    "val_df   = pd.read_csv(os.path.join(DATA_DIR, \"val.csv\"))\n",
    "test_df  = pd.read_csv(os.path.join(DATA_DIR, \"test.csv\"))\n",
    "\n",
    "print(\"Train:\", train_df.shape, \"Val:\", val_df.shape, \"Test:\", test_df.shape)"
   ]
  },
  {
   "cell_type": "markdown",
   "id": "59ab55ed",
   "metadata": {},
   "source": [
    "# 2. Tách X/y"
   ]
  },
  {
   "cell_type": "code",
   "execution_count": 61,
   "id": "2568c4bb",
   "metadata": {},
   "outputs": [
    {
     "name": "stdout",
     "output_type": "stream",
     "text": [
      "Số feature: 21\n"
     ]
    }
   ],
   "source": [
    "feature_cols = [c for c in train_df.columns if c not in (\"CLASS\",\"NSP\")]\n",
    "\n",
    "def split(df, target):\n",
    "    X = df[feature_cols].values\n",
    "    y = df[target].values\n",
    "    return X, y\n",
    "\n",
    "# CLASS\n",
    "X_tr_c, y_tr_c = split(train_df, \"CLASS\")\n",
    "X_val_c, y_val_c = split(val_df,   \"CLASS\")\n",
    "X_test_c, y_test_c = split(test_df,  \"CLASS\")\n",
    "\n",
    "# NSP\n",
    "X_tr_n, y_tr_n = split(train_df, \"NSP\")\n",
    "X_val_n, y_val_n = split(val_df,   \"NSP\")\n",
    "X_test_n, y_test_n = split(test_df,  \"NSP\")\n",
    "\n",
    "\n",
    "print(\"Số feature:\", len(feature_cols))"
   ]
  },
  {
   "cell_type": "markdown",
   "id": "4ef36147",
   "metadata": {},
   "source": [
    "# 3. Xây dựng Pipeline & GridSearchCV  "
   ]
  },
  {
   "cell_type": "markdown",
   "id": "5861217a",
   "metadata": {},
   "source": [
    "3.1 Định nghĩa pipeline"
   ]
  },
  {
   "cell_type": "code",
   "execution_count": 51,
   "id": "2f699aa4",
   "metadata": {},
   "outputs": [],
   "source": [
    "pipe = ImbPipeline([\n",
    "    ('scaler', StandardScaler()),\n",
    "    ('smote',   SMOTE(random_state=42)),\n",
    "    ('knn',     KNeighborsClassifier())\n",
    "])"
   ]
  },
  {
   "cell_type": "markdown",
   "id": "a3c54a39",
   "metadata": {},
   "source": [
    "3.2 Param grid gồm 2 nhánh: PCA vs SelectKBest"
   ]
  },
  {
   "cell_type": "code",
   "execution_count": 84,
   "id": "209c52b0",
   "metadata": {},
   "outputs": [],
   "source": [
    "param_dist = {\n",
    "    'knn__n_neighbors': randint(5, 51),\n",
    "    'knn__weights': ['uniform', 'distance'],\n",
    "    'knn__metric': ['euclidean', 'manhattan', 'minkowski'],\n",
    "    'knn__p': [1,2,3],\n",
    "    'knn__algorithm': ['auto', 'ball_tree', 'kd_tree', 'brute'],\n",
    "    'knn__leaf_size': randint(5, 51)\n",
    "}"
   ]
  },
  {
   "cell_type": "markdown",
   "id": "f534f9dc",
   "metadata": {},
   "source": [
    "3.3 cross‑val splitter"
   ]
  },
  {
   "cell_type": "code",
   "execution_count": 53,
   "id": "58a85d3d",
   "metadata": {},
   "outputs": [],
   "source": [
    "cv = StratifiedKFold(n_splits=5, shuffle=True, random_state=42)"
   ]
  },
  {
   "cell_type": "markdown",
   "id": "97748188",
   "metadata": {},
   "source": [
    "# 4. GridSearchCV"
   ]
  },
  {
   "cell_type": "markdown",
   "id": "689c1c71",
   "metadata": {},
   "source": [
    "* 10 CLASS"
   ]
  },
  {
   "cell_type": "code",
   "execution_count": 59,
   "id": "27bafa63",
   "metadata": {},
   "outputs": [],
   "source": [
    "X_trval_c = np.vstack([X_train, X_val])\n",
    "y_trval_c = np.concatenate([y_train_cls, y_val_cls])"
   ]
  },
  {
   "cell_type": "code",
   "execution_count": 86,
   "id": "e4086a2f",
   "metadata": {},
   "outputs": [
    {
     "name": "stdout",
     "output_type": "stream",
     "text": [
      "Fitting 5 folds for each of 200 candidates, totalling 1000 fits\n",
      ">>> Best params (CLASS): {'knn__algorithm': 'brute', 'knn__leaf_size': 37, 'knn__metric': 'manhattan', 'knn__n_neighbors': 5, 'knn__p': 2, 'knn__weights': 'distance'}\n",
      ">>> Best CV acc: 0.7427979713750632\n"
     ]
    }
   ],
   "source": [
    "rnd_c = RandomizedSearchCV(\n",
    "    estimator   = pipe,\n",
    "    param_distributions = param_dist,\n",
    "    n_iter      = 200,\n",
    "    cv          = cv,\n",
    "    scoring     = 'accuracy',\n",
    "    n_jobs      = -1,\n",
    "    verbose     = 2,\n",
    "    random_state= 42\n",
    ")\n",
    "rnd_c.fit(X_trval_c, y_trval_c)\n",
    "\n",
    "print(\">>> Best params (CLASS):\", rnd_c.best_params_)\n",
    "print(\">>> Best CV acc:\", rnd_c.best_score_)"
   ]
  },
  {
   "cell_type": "markdown",
   "id": "31ddbbd7",
   "metadata": {},
   "source": [
    "* NSP"
   ]
  },
  {
   "cell_type": "code",
   "execution_count": 65,
   "id": "1614cae8",
   "metadata": {},
   "outputs": [],
   "source": [
    "X_trval_n = np.vstack([X_tr_n, X_val_n])\n",
    "y_trval_n = np.concatenate([y_tr_n, y_val_n])"
   ]
  },
  {
   "cell_type": "code",
   "execution_count": null,
   "id": "a7f71fd3",
   "metadata": {},
   "outputs": [
    {
     "name": "stdout",
     "output_type": "stream",
     "text": [
      "Fitting 5 folds for each of 50 candidates, totalling 250 fits\n",
      ">>> Best params (NSP): {'knn__algorithm': 'auto', 'knn__leaf_size': 49, 'knn__metric': 'manhattan', 'knn__n_neighbors': 2, 'knn__p': 2, 'knn__weights': 'uniform'}\n",
      ">>> Best CV acc: 0.9152994408978442\n"
     ]
    }
   ],
   "source": [
    "rnd_n = RandomizedSearchCV(\n",
    "    estimator   = pipe,\n",
    "    param_distributions = param_dist,\n",
    "    n_iter      = 200,\n",
    "    cv          = cv,\n",
    "    scoring     = 'f1_macro',\n",
    "    n_jobs      = -1,\n",
    "    verbose     = 2,\n",
    "    random_state= 42\n",
    ")\n",
    "rnd_n.fit(X_trval_n, y_trval_n)\n",
    "\n",
    "print(\">>> Best params (NSP):\", rnd_n.best_params_)\n",
    "print(\">>> Best CV acc:\", rnd_n.best_score_)"
   ]
  },
  {
   "cell_type": "markdown",
   "id": "e0e9a858",
   "metadata": {},
   "source": [
    "# 5. Đánh giá trên Test"
   ]
  },
  {
   "cell_type": "markdown",
   "id": "52e2463d",
   "metadata": {},
   "source": [
    "* 10 Class"
   ]
  },
  {
   "cell_type": "code",
   "execution_count": 87,
   "id": "92b43990",
   "metadata": {},
   "outputs": [
    {
     "name": "stdout",
     "output_type": "stream",
     "text": [
      "\n",
      "=== TEST (CLASS) ===\n",
      "Accuracy: 0.8262910798122066\n",
      "              precision    recall  f1-score   support\n",
      "\n",
      "           0       0.76      0.74      0.75        34\n",
      "           1       0.96      0.82      0.88        56\n",
      "           2       0.33      0.50      0.40         6\n",
      "           3       0.83      1.00      0.91         5\n",
      "           4       0.62      0.62      0.62         8\n",
      "           5       0.91      0.91      0.91        32\n",
      "           6       0.83      0.89      0.86        28\n",
      "           7       1.00      1.00      1.00         9\n",
      "           8       0.89      0.89      0.89         9\n",
      "           9       0.72      0.81      0.76        26\n",
      "\n",
      "    accuracy                           0.83       213\n",
      "   macro avg       0.79      0.82      0.80       213\n",
      "weighted avg       0.84      0.83      0.83       213\n",
      "\n",
      "[[25  0  3  0  3  0  0  0  0  3]\n",
      " [ 2 46  2  1  0  3  1  0  0  1]\n",
      " [ 2  0  3  0  0  0  0  0  0  1]\n",
      " [ 0  0  0  5  0  0  0  0  0  0]\n",
      " [ 1  0  0  0  5  0  0  0  0  2]\n",
      " [ 0  0  0  0  0 29  3  0  0  0]\n",
      " [ 1  1  1  0  0  0 25  0  0  0]\n",
      " [ 0  0  0  0  0  0  0  9  0  0]\n",
      " [ 0  0  0  0  0  0  0  0  8  1]\n",
      " [ 2  1  0  0  0  0  1  0  1 21]]\n"
     ]
    }
   ],
   "source": [
    "best_c = rnd_c.best_estimator_\n",
    "y_pred_c = best_c.predict(X_test_c)\n",
    "\n",
    "print(\"\\n=== TEST (CLASS) ===\")\n",
    "print(\"Accuracy:\", accuracy_score(y_test_c, y_pred_c))\n",
    "print(classification_report(y_test_c, y_pred_c))\n",
    "print(confusion_matrix(y_test_c, y_pred_c))"
   ]
  },
  {
   "cell_type": "markdown",
   "id": "06364c4c",
   "metadata": {},
   "source": [
    "* NSP"
   ]
  },
  {
   "cell_type": "code",
   "execution_count": 83,
   "id": "de2d8b2e",
   "metadata": {},
   "outputs": [
    {
     "name": "stdout",
     "output_type": "stream",
     "text": [
      "\n",
      "=== TEST (NSP) ===\n",
      "Accuracy: 0.9061032863849765\n",
      "              precision    recall  f1-score   support\n",
      "\n",
      "           0       0.96      0.94      0.95       159\n",
      "           1       0.70      0.78      0.74        36\n",
      "           2       0.94      0.89      0.91        18\n",
      "\n",
      "    accuracy                           0.91       213\n",
      "   macro avg       0.87      0.87      0.87       213\n",
      "weighted avg       0.91      0.91      0.91       213\n",
      "\n",
      "[[149  10   0]\n",
      " [  7  28   1]\n",
      " [  0   2  16]]\n"
     ]
    }
   ],
   "source": [
    "best_n = rnd_n.best_estimator_\n",
    "y_pred_n = best_n.predict(X_test_n)\n",
    "\n",
    "print(\"\\n=== TEST (NSP) ===\")\n",
    "print(\"Accuracy:\", accuracy_score(y_test_n, y_pred_n))\n",
    "print(classification_report(y_test_n, y_pred_n))\n",
    "print(confusion_matrix(y_test_n, y_pred_n))"
   ]
  }
 ],
 "metadata": {
  "kernelspec": {
   "display_name": "Python 3",
   "language": "python",
   "name": "python3"
  },
  "language_info": {
   "codemirror_mode": {
    "name": "ipython",
    "version": 3
   },
   "file_extension": ".py",
   "mimetype": "text/x-python",
   "name": "python",
   "nbconvert_exporter": "python",
   "pygments_lexer": "ipython3",
   "version": "3.12.8"
  }
 },
 "nbformat": 4,
 "nbformat_minor": 5
}
