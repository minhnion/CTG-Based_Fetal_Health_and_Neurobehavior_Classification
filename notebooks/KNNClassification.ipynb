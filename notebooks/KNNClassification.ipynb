{
 "cells": [
  {
   "cell_type": "code",
   "execution_count": 99,
   "id": "9078c4eb",
   "metadata": {},
   "outputs": [],
   "source": [
    "import os\n",
    "import pandas as pd\n",
    "import numpy as np\n",
    "\n",
    "from sklearn.model_selection import RandomizedSearchCV, GridSearchCV, StratifiedKFold\n",
    "from sklearn.preprocessing import StandardScaler\n",
    "from sklearn.decomposition import PCA\n",
    "from sklearn.feature_selection import SelectKBest, f_classif\n",
    "from sklearn.neighbors import KNeighborsClassifier\n",
    "from sklearn.metrics import accuracy_score, classification_report, confusion_matrix\n",
    "\n",
    "from imblearn.over_sampling import SMOTE\n",
    "from imblearn.pipeline import Pipeline as ImbPipeline\n",
    "from scipy.stats import randint, uniform"
   ]
  },
  {
   "cell_type": "markdown",
   "id": "afa565d3",
   "metadata": {},
   "source": [
    "# 1. Đọc dữ lệu"
   ]
  },
  {
   "cell_type": "code",
   "execution_count": 100,
   "id": "1b5dd2d3",
   "metadata": {},
   "outputs": [
    {
     "name": "stdout",
     "output_type": "stream",
     "text": [
      "Train: (1721, 23) Val: (192, 23) Test: (213, 23)\n"
     ]
    }
   ],
   "source": [
    "DATA_DIR = \"../data/cleaned_data\"\n",
    "\n",
    "train_df = pd.read_csv(os.path.join(DATA_DIR, \"train.csv\"))\n",
    "val_df   = pd.read_csv(os.path.join(DATA_DIR, \"val.csv\"))\n",
    "test_df  = pd.read_csv(os.path.join(DATA_DIR, \"test.csv\"))\n",
    "\n",
    "print(\"Train:\", train_df.shape, \"Val:\", val_df.shape, \"Test:\", test_df.shape)"
   ]
  },
  {
   "cell_type": "markdown",
   "id": "59ab55ed",
   "metadata": {},
   "source": [
    "# 2. Tách X/y"
   ]
  },
  {
   "cell_type": "code",
   "execution_count": 101,
   "id": "2568c4bb",
   "metadata": {},
   "outputs": [
    {
     "name": "stdout",
     "output_type": "stream",
     "text": [
      "Số feature: 21\n"
     ]
    }
   ],
   "source": [
    "feature_cols = [c for c in train_df.columns if c not in (\"CLASS\",\"NSP\")]\n",
    "\n",
    "def split(df, target):\n",
    "    X = df[feature_cols].values\n",
    "    y = df[target].values\n",
    "    return X, y\n",
    "\n",
    "# CLASS\n",
    "X_tr_c, y_tr_c = split(train_df, \"CLASS\")\n",
    "X_val_c, y_val_c = split(val_df,   \"CLASS\")\n",
    "X_test_c, y_test_c = split(test_df,  \"CLASS\")\n",
    "\n",
    "# NSP\n",
    "X_tr_n, y_tr_n = split(train_df, \"NSP\")\n",
    "X_val_n, y_val_n = split(val_df,   \"NSP\")\n",
    "X_test_n, y_test_n = split(test_df,  \"NSP\")\n",
    "\n",
    "\n",
    "print(\"Số feature:\", len(feature_cols))"
   ]
  },
  {
   "cell_type": "markdown",
   "id": "4ef36147",
   "metadata": {},
   "source": [
    "# 3. Xây dựng Pipeline & GridSearchCV  "
   ]
  },
  {
   "cell_type": "markdown",
   "id": "5861217a",
   "metadata": {},
   "source": [
    "3.1 Định nghĩa pipeline"
   ]
  },
  {
   "cell_type": "code",
   "execution_count": 102,
   "id": "2f699aa4",
   "metadata": {},
   "outputs": [],
   "source": [
    "pipe = ImbPipeline([\n",
    "    ('scaler', StandardScaler()),\n",
    "    ('smote',   SMOTE(random_state=42)),\n",
    "    ('knn',     KNeighborsClassifier())\n",
    "])"
   ]
  },
  {
   "cell_type": "markdown",
   "id": "a3c54a39",
   "metadata": {},
   "source": [
    "3.2 Param grid gồm 2 nhánh: PCA vs SelectKBest"
   ]
  },
  {
   "cell_type": "code",
   "execution_count": 103,
   "id": "209c52b0",
   "metadata": {},
   "outputs": [],
   "source": [
    "param_dist = {\n",
    "    'knn__n_neighbors': randint(5, 51),\n",
    "    'knn__weights': ['uniform', 'distance'],\n",
    "    'knn__metric': ['euclidean', 'manhattan', 'minkowski'],\n",
    "    'knn__p': [1,2,3],\n",
    "    'knn__algorithm': ['auto', 'ball_tree', 'kd_tree', 'brute'],\n",
    "    'knn__leaf_size': randint(5, 51)\n",
    "}"
   ]
  },
  {
   "cell_type": "markdown",
   "id": "f534f9dc",
   "metadata": {},
   "source": [
    "3.3 cross‑val splitter"
   ]
  },
  {
   "cell_type": "code",
   "execution_count": 104,
   "id": "58a85d3d",
   "metadata": {},
   "outputs": [],
   "source": [
    "cv = StratifiedKFold(n_splits=5, shuffle=True, random_state=42)"
   ]
  },
  {
   "cell_type": "markdown",
   "id": "97748188",
   "metadata": {},
   "source": [
    "# 4. GridSearchCV"
   ]
  },
  {
   "cell_type": "markdown",
   "id": "689c1c71",
   "metadata": {},
   "source": [
    "* 10 CLASS"
   ]
  },
  {
   "cell_type": "code",
   "execution_count": 105,
   "id": "e4086a2f",
   "metadata": {},
   "outputs": [
    {
     "name": "stdout",
     "output_type": "stream",
     "text": [
      "Fitting 5 folds for each of 200 candidates, totalling 1000 fits\n",
      ">>> Best params (CLASS): {'knn__algorithm': 'auto', 'knn__leaf_size': 5, 'knn__metric': 'minkowski', 'knn__n_neighbors': 6, 'knn__p': 1, 'knn__weights': 'distance'}\n",
      ">>> Best CV acc: 0.7356066734074822\n"
     ]
    }
   ],
   "source": [
    "rnd_c = RandomizedSearchCV(\n",
    "    estimator   = pipe,\n",
    "    param_distributions = param_dist,\n",
    "    n_iter      = 200,\n",
    "    cv          = cv,\n",
    "    scoring     = 'accuracy',\n",
    "    n_jobs      = -1,\n",
    "    verbose     = 2,\n",
    "    random_state= 42\n",
    ")\n",
    "rnd_c.fit(X_train, y_train_cls)\n",
    "\n",
    "print(\">>> Best params (CLASS):\", rnd_c.best_params_)\n",
    "print(\">>> Best CV acc:\", rnd_c.best_score_)"
   ]
  },
  {
   "cell_type": "markdown",
   "id": "31ddbbd7",
   "metadata": {},
   "source": [
    "* NSP"
   ]
  },
  {
   "cell_type": "code",
   "execution_count": 106,
   "id": "a7f71fd3",
   "metadata": {},
   "outputs": [
    {
     "name": "stdout",
     "output_type": "stream",
     "text": [
      "Fitting 5 folds for each of 200 candidates, totalling 1000 fits\n",
      ">>> Best params (NSP): {'knn__algorithm': 'auto', 'knn__leaf_size': 5, 'knn__metric': 'minkowski', 'knn__n_neighbors': 6, 'knn__p': 1, 'knn__weights': 'distance'}\n",
      ">>> Best CV acc: 0.8895888102460396\n"
     ]
    }
   ],
   "source": [
    "rnd_n = RandomizedSearchCV(\n",
    "    estimator   = pipe,\n",
    "    param_distributions = param_dist,\n",
    "    n_iter      = 200,\n",
    "    cv          = cv,\n",
    "    scoring     = 'accuracy',\n",
    "    n_jobs      = -1,\n",
    "    verbose     = 2,\n",
    "    random_state= 42\n",
    ")\n",
    "rnd_n.fit(X_tr_n, y_tr_n)\n",
    "\n",
    "print(\">>> Best params (NSP):\", rnd_n.best_params_)\n",
    "print(\">>> Best CV acc:\", rnd_n.best_score_)"
   ]
  },
  {
   "cell_type": "markdown",
   "id": "e0e9a858",
   "metadata": {},
   "source": [
    "# 5. Đánh giá trên Test"
   ]
  },
  {
   "cell_type": "markdown",
   "id": "52e2463d",
   "metadata": {},
   "source": [
    "* 10 Class"
   ]
  },
  {
   "cell_type": "code",
   "execution_count": 107,
   "id": "1017f4df",
   "metadata": {},
   "outputs": [],
   "source": [
    "X_valtest_c = np.vstack([X_test_c, X_val_c])\n",
    "y_valtest_c = np.concatenate([y_test_c, y_val_c])"
   ]
  },
  {
   "cell_type": "code",
   "execution_count": 108,
   "id": "92b43990",
   "metadata": {},
   "outputs": [
    {
     "name": "stdout",
     "output_type": "stream",
     "text": [
      "\n",
      "=== TEST (CLASS) ===\n",
      "Accuracy: 0.7901234567901234\n",
      "              precision    recall  f1-score   support\n",
      "\n",
      "           0       0.73      0.74      0.74        78\n",
      "           1       0.93      0.79      0.86       109\n",
      "           2       0.35      0.60      0.44        10\n",
      "           3       0.80      1.00      0.89        12\n",
      "           4       0.44      0.41      0.42        17\n",
      "           5       0.91      0.88      0.89        58\n",
      "           6       0.78      0.89      0.83        45\n",
      "           7       1.00      0.86      0.92        14\n",
      "           8       0.81      0.93      0.87        14\n",
      "           9       0.69      0.73      0.71        48\n",
      "\n",
      "    accuracy                           0.79       405\n",
      "   macro avg       0.75      0.78      0.76       405\n",
      "weighted avg       0.81      0.79      0.79       405\n",
      "\n",
      "[[58  2  7  0  5  0  1  0  0  5]\n",
      " [ 6 86  3  2  4  4  1  0  0  3]\n",
      " [ 2  1  6  0  0  0  0  0  0  1]\n",
      " [ 0  0  0 12  0  0  0  0  0  0]\n",
      " [ 3  0  0  0  7  0  1  0  0  6]\n",
      " [ 0  1  0  1  0 51  5  0  0  0]\n",
      " [ 3  0  1  0  0  1 40  0  0  0]\n",
      " [ 0  0  0  0  0  0  2 12  0  0]\n",
      " [ 0  0  0  0  0  0  0  0 13  1]\n",
      " [ 7  2  0  0  0  0  1  0  3 35]]\n"
     ]
    }
   ],
   "source": [
    "best_c = rnd_c.best_estimator_\n",
    "y_pred_c = best_c.predict(X_valtest_c)\n",
    "\n",
    "print(\"\\n=== TEST (CLASS) ===\")\n",
    "print(\"Accuracy:\", accuracy_score(y_valtest_c, y_pred_c))\n",
    "print(classification_report(y_valtest_c, y_pred_c))\n",
    "print(confusion_matrix(y_valtest_c, y_pred_c))"
   ]
  },
  {
   "cell_type": "markdown",
   "id": "06364c4c",
   "metadata": {},
   "source": [
    "* NSP"
   ]
  },
  {
   "cell_type": "code",
   "execution_count": 109,
   "id": "0ec51bf2",
   "metadata": {},
   "outputs": [],
   "source": [
    "X_valtest_n = np.vstack([X_test_n, X_val_n])\n",
    "y_valtest_n = np.concatenate([y_test_n, y_val_n])"
   ]
  },
  {
   "cell_type": "code",
   "execution_count": 110,
   "id": "de2d8b2e",
   "metadata": {},
   "outputs": [
    {
     "name": "stdout",
     "output_type": "stream",
     "text": [
      "\n",
      "=== TEST (NSP) ===\n",
      "Accuracy: 0.8938271604938272\n",
      "              precision    recall  f1-score   support\n",
      "\n",
      "           0       0.98      0.92      0.95       310\n",
      "           1       0.64      0.82      0.72        67\n",
      "           2       0.82      0.82      0.82        28\n",
      "\n",
      "    accuracy                           0.89       405\n",
      "   macro avg       0.81      0.85      0.83       405\n",
      "weighted avg       0.91      0.89      0.90       405\n",
      "\n",
      "[[284  26   0]\n",
      " [  7  55   5]\n",
      " [  0   5  23]]\n"
     ]
    }
   ],
   "source": [
    "best_n = rnd_n.best_estimator_\n",
    "y_pred_n = best_n.predict(X_valtest_n)\n",
    "\n",
    "print(\"\\n=== TEST (NSP) ===\")\n",
    "print(\"Accuracy:\", accuracy_score(y_valtest_n, y_pred_n))\n",
    "print(classification_report(y_valtest_n, y_pred_n))\n",
    "print(confusion_matrix(y_valtest_n, y_pred_n))"
   ]
  }
 ],
 "metadata": {
  "kernelspec": {
   "display_name": "Python 3",
   "language": "python",
   "name": "python3"
  },
  "language_info": {
   "codemirror_mode": {
    "name": "ipython",
    "version": 3
   },
   "file_extension": ".py",
   "mimetype": "text/x-python",
   "name": "python",
   "nbconvert_exporter": "python",
   "pygments_lexer": "ipython3",
   "version": "3.12.8"
  }
 },
 "nbformat": 4,
 "nbformat_minor": 5
}
