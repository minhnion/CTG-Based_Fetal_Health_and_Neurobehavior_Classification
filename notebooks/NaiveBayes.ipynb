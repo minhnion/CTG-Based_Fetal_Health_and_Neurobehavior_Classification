{
 "cells": [
  {
   "cell_type": "code",
   "execution_count": 2,
   "id": "d9aefd5d",
   "metadata": {},
   "outputs": [],
   "source": [
    "import os\n",
    "import numpy as np\n",
    "import pandas as pd\n",
    "\n",
    "import matplotlib.pyplot as plt\n",
    "from sklearn.model_selection import StratifiedKFold, GridSearchCV\n",
    "from sklearn.preprocessing import StandardScaler, MinMaxScaler\n",
    "from sklearn.feature_selection import SelectKBest, f_classif\n",
    "from sklearn.metrics import accuracy_score, classification_report, confusion_matrix\n",
    "\n",
    "from sklearn.naive_bayes import GaussianNB, MultinomialNB\n",
    "from imblearn.over_sampling import SMOTE\n",
    "from imblearn.pipeline import Pipeline as ImbPipeline"
   ]
  },
  {
   "cell_type": "markdown",
   "id": "6c5b36b9",
   "metadata": {},
   "source": [
    "# 1. Đọc dữ liệu"
   ]
  },
  {
   "cell_type": "code",
   "execution_count": 3,
   "id": "a3779d27",
   "metadata": {},
   "outputs": [
    {
     "name": "stdout",
     "output_type": "stream",
     "text": [
      "Train: (1721, 23) Val: (192, 23) Test: (213, 23)\n"
     ]
    }
   ],
   "source": [
    "DATA_DIR = \"../data/cleaned_data\"\n",
    "train_df = pd.read_csv(os.path.join(DATA_DIR, \"train.csv\"))\n",
    "val_df   = pd.read_csv(os.path.join(DATA_DIR, \"val.csv\"))\n",
    "test_df  = pd.read_csv(os.path.join(DATA_DIR, \"test.csv\"))\n",
    "\n",
    "print(\"Train:\", train_df.shape, \"Val:\", val_df.shape, \"Test:\", test_df.shape)\n",
    "\n",
    "feature_cols = [c for c in train_df.columns if c not in ('CLASS', 'NSP')]"
   ]
  },
  {
   "cell_type": "markdown",
   "id": "31b39994",
   "metadata": {},
   "source": [
    "# 2. Tách X/y"
   ]
  },
  {
   "cell_type": "code",
   "execution_count": 4,
   "id": "6445d053",
   "metadata": {},
   "outputs": [],
   "source": [
    "df_trval = pd.concat([train_df, val_df], ignore_index=True)\n",
    "X_trval = df_trval[feature_cols].values\n",
    "X_test  = test_df[feature_cols].values\n",
    "y_trval_class = df_trval['CLASS'].values\n",
    "y_trval_nsp   = df_trval['NSP'].values\n",
    "y_test_class  = test_df['CLASS'].values\n",
    "y_test_nsp    = test_df['NSP'].values"
   ]
  },
  {
   "cell_type": "markdown",
   "id": "fc20c955",
   "metadata": {},
   "source": [
    "Pipeline & param_grid cho GaussianNB"
   ]
  },
  {
   "cell_type": "code",
   "execution_count": 5,
   "id": "42ed4172",
   "metadata": {},
   "outputs": [],
   "source": [
    "pipe_gnb = ImbPipeline([\n",
    "    ('scaler', StandardScaler()),\n",
    "    ('smote',  SMOTE(random_state=42)),\n",
    "    ('skb',    SelectKBest(f_classif)),      # chọn feature\n",
    "    ('clf',    GaussianNB())\n",
    "])\n",
    "\n",
    "param_gnb = {\n",
    "    'skb__k': [10, 15, 20, len(feature_cols)],\n",
    "    'clf__var_smoothing': [1e-12, 1e-9, 1e-6, 1e-3]\n",
    "}\n",
    "\n",
    "cv = StratifiedKFold(n_splits=5, shuffle=True, random_state=42)\n",
    "gs_gnb_class = GridSearchCV(pipe_gnb, param_gnb, cv=cv, scoring='f1_macro', n_jobs=-1, verbose=1)\n",
    "gs_gnb_nsp   = GridSearchCV(pipe_gnb, param_gnb, cv=cv, scoring='f1_macro', n_jobs=-1, verbose=1)"
   ]
  },
  {
   "cell_type": "markdown",
   "id": "af949360",
   "metadata": {},
   "source": [
    "Pipeline & param_grid cho MultinomialNB"
   ]
  },
  {
   "cell_type": "code",
   "execution_count": 6,
   "id": "607671a1",
   "metadata": {},
   "outputs": [],
   "source": [
    "pipe_mnb = ImbPipeline([\n",
    "    ('scaler', MinMaxScaler()),             # đưa về [0,1]\n",
    "    ('smote',  SMOTE(random_state=42)),\n",
    "    ('skb',    SelectKBest(f_classif)),\n",
    "    ('clf',    MultinomialNB())\n",
    "])\n",
    "\n",
    "param_mnb = {\n",
    "    'skb__k': [10, 15, 20, len(feature_cols)],\n",
    "    'clf__alpha': [0.0, 0.1, 0.5, 1.0],\n",
    "    'clf__fit_prior': [True, False]\n",
    "}\n",
    "\n",
    "gs_mnb_class = GridSearchCV(pipe_mnb, param_mnb, cv=cv, scoring='f1_macro', n_jobs=-1, verbose=1)\n",
    "gs_mnb_nsp   = GridSearchCV(pipe_mnb, param_mnb, cv=cv, scoring='f1_macro', n_jobs=-1, verbose=1)"
   ]
  },
  {
   "cell_type": "markdown",
   "id": "4960be52",
   "metadata": {},
   "source": [
    "# 3. Huấn luyện models"
   ]
  },
  {
   "cell_type": "markdown",
   "id": "c08db92f",
   "metadata": {},
   "source": [
    "3.1. MODEL 1: Gaussian Naive Bayes"
   ]
  },
  {
   "cell_type": "markdown",
   "id": "73a03601",
   "metadata": {},
   "source": [
    "Đánh giá CLASS"
   ]
  },
  {
   "cell_type": "code",
   "execution_count": 12,
   "id": "f2a234ca",
   "metadata": {},
   "outputs": [
    {
     "name": "stdout",
     "output_type": "stream",
     "text": [
      "Fitting 5 folds for each of 16 candidates, totalling 80 fits\n",
      "=== GNB CLASS ===\n",
      "Best params: {'clf__var_smoothing': 0.001, 'skb__k': 15}\n",
      "Test Accuracy: 0.6807511737089202\n",
      "              precision    recall  f1-score   support\n",
      "\n",
      "           0       0.80      0.35      0.49        34\n",
      "           1       0.90      0.62      0.74        56\n",
      "           2       0.42      0.83      0.56         6\n",
      "           3       0.28      1.00      0.43         5\n",
      "           4       0.35      0.75      0.48         8\n",
      "           5       0.90      0.88      0.89        32\n",
      "           6       0.84      0.75      0.79        28\n",
      "           7       0.64      1.00      0.78         9\n",
      "           8       0.45      0.56      0.50         9\n",
      "           9       0.61      0.73      0.67        26\n",
      "\n",
      "    accuracy                           0.68       213\n",
      "   macro avg       0.62      0.75      0.63       213\n",
      "weighted avg       0.76      0.68      0.69       213\n",
      "\n",
      "[[12  2  5  0  6  0  0  0  1  8]\n",
      " [ 0 35  1 13  3  1  3  0  0  0]\n",
      " [ 1  0  5  0  0  0  0  0  0  0]\n",
      " [ 0  0  0  5  0  0  0  0  0  0]\n",
      " [ 0  1  0  0  6  0  0  0  1  0]\n",
      " [ 0  1  0  0  0 28  1  2  0  0]\n",
      " [ 1  0  1  0  0  2 21  3  0  0]\n",
      " [ 0  0  0  0  0  0  0  9  0  0]\n",
      " [ 0  0  0  0  0  0  0  0  5  4]\n",
      " [ 1  0  0  0  2  0  0  0  4 19]]\n"
     ]
    }
   ],
   "source": [
    "gs_gnb_class.fit(X_trval, y_trval_class)\n",
    "best_gnb_class = gs_gnb_class.best_estimator_\n",
    "y_pred_gnb_c = best_gnb_class.predict(X_test)\n",
    "\n",
    "print(\"=== GNB CLASS ===\")\n",
    "print(\"Best params:\", gs_gnb_class.best_params_)\n",
    "print(\"Test Accuracy:\", accuracy_score(y_test_class, y_pred_gnb_c))\n",
    "print(classification_report(y_test_class, y_pred_gnb_c))\n",
    "print(confusion_matrix(y_test_class, y_pred_gnb_c))"
   ]
  },
  {
   "cell_type": "markdown",
   "id": "cf098a05",
   "metadata": {},
   "source": [
    "Đánh giá NSP"
   ]
  },
  {
   "cell_type": "code",
   "execution_count": 8,
   "id": "6d35f380",
   "metadata": {},
   "outputs": [
    {
     "name": "stdout",
     "output_type": "stream",
     "text": [
      "Fitting 5 folds for each of 16 candidates, totalling 80 fits\n",
      "\n",
      "=== GNB NSP ===\n",
      "Best params: {'clf__var_smoothing': 0.001, 'skb__k': 15}\n",
      "Test Accuracy: 0.7699530516431925\n",
      "              precision    recall  f1-score   support\n",
      "\n",
      "           0       0.99      0.76      0.86       159\n",
      "           1       0.48      0.86      0.62        36\n",
      "           2       0.44      0.67      0.53        18\n",
      "\n",
      "    accuracy                           0.77       213\n",
      "   macro avg       0.64      0.76      0.67       213\n",
      "weighted avg       0.86      0.77      0.79       213\n",
      "\n",
      "[[121  27  11]\n",
      " [  1  31   4]\n",
      " [  0   6  12]]\n"
     ]
    }
   ],
   "source": [
    "gs_gnb_nsp.fit(X_trval, y_trval_nsp)\n",
    "best_gnb_nsp = gs_gnb_nsp.best_estimator_\n",
    "y_pred_gnb_n = best_gnb_nsp.predict(X_test)\n",
    "\n",
    "print(\"\\n=== GNB NSP ===\")\n",
    "print(\"Best params:\", gs_gnb_nsp.best_params_)\n",
    "print(\"Test Accuracy:\", accuracy_score(y_test_nsp, y_pred_gnb_n))\n",
    "print(classification_report(y_test_nsp, y_pred_gnb_n))\n",
    "print(confusion_matrix(y_test_nsp, y_pred_gnb_n))"
   ]
  },
  {
   "cell_type": "markdown",
   "id": "1c811734",
   "metadata": {},
   "source": [
    "3.2. MODEL 2: Multinomial Naive Bayes"
   ]
  },
  {
   "cell_type": "markdown",
   "id": "e226fc43",
   "metadata": {},
   "source": [
    "Dự đoán và đánh giá CLASS"
   ]
  },
  {
   "cell_type": "code",
   "execution_count": 9,
   "id": "619c3130",
   "metadata": {},
   "outputs": [
    {
     "name": "stdout",
     "output_type": "stream",
     "text": [
      "Fitting 5 folds for each of 32 candidates, totalling 160 fits\n",
      "=== MNB CLASS ===\n",
      "Best params: {'clf__alpha': 0.1, 'clf__fit_prior': True, 'skb__k': 20}\n",
      "Test Accuracy: 0.6150234741784038\n",
      "              precision    recall  f1-score   support\n",
      "\n",
      "           0       0.67      0.29      0.41        34\n",
      "           1       0.93      0.66      0.77        56\n",
      "           2       0.29      0.83      0.43         6\n",
      "           3       0.31      0.80      0.44         5\n",
      "           4       0.23      0.38      0.29         8\n",
      "           5       0.86      0.75      0.80        32\n",
      "           6       0.70      0.82      0.75        28\n",
      "           7       0.64      0.78      0.70         9\n",
      "           8       0.41      0.78      0.54         9\n",
      "           9       0.42      0.42      0.42        26\n",
      "\n",
      "    accuracy                           0.62       213\n",
      "   macro avg       0.54      0.65      0.56       213\n",
      "weighted avg       0.69      0.62      0.62       213\n",
      "\n",
      "[[10  1  8  0  2  0  0  0  0 13]\n",
      " [ 1 37  1  9  3  3  2  0  0  0]\n",
      " [ 1  0  5  0  0  0  0  0  0  0]\n",
      " [ 0  0  0  4  0  1  0  0  0  0]\n",
      " [ 2  0  1  0  3  0  1  0  1  0]\n",
      " [ 0  2  0  0  0 24  5  1  0  0]\n",
      " [ 0  0  2  0  0  0 23  3  0  0]\n",
      " [ 0  0  0  0  0  0  2  7  0  0]\n",
      " [ 0  0  0  0  0  0  0  0  7  2]\n",
      " [ 1  0  0  0  5  0  0  0  9 11]]\n"
     ]
    }
   ],
   "source": [
    "gs_mnb_class.fit(X_trval, y_trval_class)\n",
    "y_pred_mnb_c = gs_mnb_class.predict(X_test)\n",
    "\n",
    "print(\"=== MNB CLASS ===\")\n",
    "print(\"Best params:\", gs_mnb_class.best_params_)\n",
    "print(\"Test Accuracy:\", accuracy_score(y_test_class, y_pred_mnb_c))\n",
    "print(classification_report(y_test_class, y_pred_mnb_c))\n",
    "print(confusion_matrix(y_test_class, y_pred_mnb_c))"
   ]
  },
  {
   "cell_type": "markdown",
   "id": "3d195da0",
   "metadata": {},
   "source": [
    "Dự đoán và đánh giá NSP"
   ]
  },
  {
   "cell_type": "code",
   "execution_count": 10,
   "id": "9d43302c",
   "metadata": {},
   "outputs": [
    {
     "name": "stdout",
     "output_type": "stream",
     "text": [
      "Fitting 5 folds for each of 32 candidates, totalling 160 fits\n",
      "\n",
      "=== MNB NSP ===\n",
      "Best params: {'clf__alpha': 0.0, 'clf__fit_prior': True, 'skb__k': 15}\n",
      "Test Accuracy: 0.704225352112676\n",
      "              precision    recall  f1-score   support\n",
      "\n",
      "           0       0.97      0.70      0.81       159\n",
      "           1       0.43      0.83      0.57        36\n",
      "           2       0.31      0.50      0.38        18\n",
      "\n",
      "    accuracy                           0.70       213\n",
      "   macro avg       0.57      0.68      0.59       213\n",
      "weighted avg       0.83      0.70      0.74       213\n",
      "\n",
      "[[111  31  17]\n",
      " [  3  30   3]\n",
      " [  0   9   9]]\n"
     ]
    }
   ],
   "source": [
    "gs_mnb_nsp.fit(X_trval, y_trval_nsp)\n",
    "y_pred_mnb_n = gs_mnb_nsp.predict(X_test)\n",
    "\n",
    "print(\"\\n=== MNB NSP ===\")\n",
    "print(\"Best params:\", gs_mnb_nsp.best_params_)\n",
    "print(\"Test Accuracy:\", accuracy_score(y_test_nsp, y_pred_mnb_n))\n",
    "print(classification_report(y_test_nsp, y_pred_mnb_n))\n",
    "print(confusion_matrix(y_test_nsp, y_pred_mnb_n))"
   ]
  },
  {
   "cell_type": "markdown",
   "id": "69e55c91",
   "metadata": {},
   "source": [
    "# 4. So sánh"
   ]
  },
  {
   "cell_type": "code",
   "execution_count": 11,
   "id": "866461d2",
   "metadata": {},
   "outputs": [
    {
     "data": {
      "image/png": "[encoded data removed]",
      "text/plain": [
       "<Figure size 640x480 with 1 Axes>"
      ]
     },
     "metadata": {},
     "output_type": "display_data"
    }
   ],
   "source": [
    "accs = [\n",
    "    accuracy_score(y_test_class, y_pred_gnb_c),\n",
    "    accuracy_score(y_test_class, y_pred_mnb_c),\n",
    "    accuracy_score(y_test_nsp,   y_pred_gnb_n),\n",
    "    accuracy_score(y_test_nsp,   y_pred_mnb_n)\n",
    "]\n",
    "labels = ['GNB_CLASS','MNB_CLASS','GNB_NSP','MNB_NSP']\n",
    "colors = ['tab:blue','tab:orange','tab:blue','tab:orange']\n",
    "\n",
    "plt.figure()\n",
    "plt.bar(labels, accs, color=colors)\n",
    "plt.ylim(0,1)\n",
    "plt.ylabel('Accuracy')\n",
    "plt.title('Naive Bayes: GNB vs MNB')\n",
    "plt.xticks(rotation=45)\n",
    "plt.tight_layout()\n",
    "plt.show()"
   ]
  }
 ],
 "metadata": {
  "kernelspec": {
   "display_name": "Python 3",
   "language": "python",
   "name": "python3"
  },
  "language_info": {
   "codemirror_mode": {
    "name": "ipython",
    "version": 3
   },
   "file_extension": ".py",
   "mimetype": "text/x-python",
   "name": "python",
   "nbconvert_exporter": "python",
   "pygments_lexer": "ipython3",
   "version": "3.12.8"
  }
 },
 "nbformat": 4,
 "nbformat_minor": 5
}
