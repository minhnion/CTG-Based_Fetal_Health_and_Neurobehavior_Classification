{
 "cells": [
  {
   "cell_type": "code",
   "execution_count": 7,
   "metadata": {},
   "outputs": [],
   "source": [
    "import os\n",
    "import pandas as pd\n",
    "import numpy as np\n",
    "\n",
    "from sklearn.model_selection import RandomizedSearchCV, StratifiedKFold\n",
    "from sklearn.preprocessing import StandardScaler\n",
    "from sklearn.ensemble import RandomForestClassifier\n",
    "from sklearn.metrics import accuracy_score, classification_report, confusion_matrix\n",
    "\n",
    "from imblearn.over_sampling import SMOTE\n",
    "from imblearn.pipeline import Pipeline as ImbPipeline\n",
    "from scipy.stats import randint\n"
   ]
  },
  {
   "cell_type": "markdown",
   "metadata": {},
   "source": [
    "# 1.Đọc data"
   ]
  },
  {
   "cell_type": "code",
   "execution_count": 8,
   "metadata": {},
   "outputs": [
    {
     "name": "stdout",
     "output_type": "stream",
     "text": [
      "Train: (1721, 23) Val: (192, 23) Test: (213, 23)\n"
     ]
    }
   ],
   "source": [
    "DATA_DIR = \"../data/cleaned_data\"\n",
    "\n",
    "train_df = pd.read_csv(os.path.join(DATA_DIR, \"train.csv\"))\n",
    "val_df   = pd.read_csv(os.path.join(DATA_DIR, \"val.csv\"))\n",
    "test_df  = pd.read_csv(os.path.join(DATA_DIR, \"test.csv\"))\n",
    "\n",
    "print(\"Train:\", train_df.shape, \"Val:\", val_df.shape, \"Test:\", test_df.shape)"
   ]
  },
  {
   "cell_type": "markdown",
   "metadata": {},
   "source": [
    "# 2.Tách X/Y"
   ]
  },
  {
   "cell_type": "code",
   "execution_count": 9,
   "metadata": {},
   "outputs": [
    {
     "name": "stdout",
     "output_type": "stream",
     "text": [
      "Số feature: 21\n"
     ]
    }
   ],
   "source": [
    "feature_cols = [c for c in train_df.columns if c not in (\"CLASS\",\"NSP\")]\n",
    "\n",
    "def split(df, target):\n",
    "    X = df[feature_cols].values\n",
    "    y = df[target].values\n",
    "    return X, y\n",
    "\n",
    "# CLASS\n",
    "X_tr_c, y_tr_c = split(train_df, \"CLASS\")\n",
    "X_val_c, y_val_c = split(val_df, \"CLASS\")\n",
    "X_test_c, y_test_c = split(test_df, \"CLASS\")\n",
    "\n",
    "# NSP\n",
    "X_tr_n, y_tr_n = split(train_df, \"NSP\")\n",
    "X_val_n, y_val_n = split(val_df, \"NSP\")\n",
    "X_test_n, y_test_n = split(test_df, \"NSP\")\n",
    "\n",
    "print(\"Số feature:\", len(feature_cols))\n"
   ]
  },
  {
   "cell_type": "markdown",
   "metadata": {},
   "source": [
    "# 3.Xây pipeline + grid search CV để tìm bộ tham số tối ưu sau này"
   ]
  },
  {
   "cell_type": "markdown",
   "metadata": {},
   "source": [
    "3.1 Xây pipeline"
   ]
  },
  {
   "cell_type": "code",
   "execution_count": 10,
   "metadata": {},
   "outputs": [],
   "source": [
    "pipe = ImbPipeline([\n",
    "    ('scaler', StandardScaler()),\n",
    "    ('smote',  SMOTE(random_state=42)),\n",
    "    ('rf',     RandomForestClassifier(random_state=42))\n",
    "])\n"
   ]
  },
  {
   "cell_type": "markdown",
   "metadata": {},
   "source": [
    "3.2 Thiết lập parameter search space"
   ]
  },
  {
   "cell_type": "code",
   "execution_count": 11,
   "metadata": {},
   "outputs": [],
   "source": [
    "param_dist = {\n",
    "    'rf__n_estimators': randint(100, 300),\n",
    "    'rf__max_depth': randint(5, 30),\n",
    "    'rf__min_samples_split': randint(2, 10),\n",
    "    'rf__min_samples_leaf': randint(1, 10),\n",
    "    'rf__max_features': ['sqrt', 'log2', None],\n",
    "    'rf__bootstrap': [True, False]\n",
    "}"
   ]
  },
  {
   "cell_type": "markdown",
   "metadata": {},
   "source": [
    "3.3 Cross-validation splitter"
   ]
  },
  {
   "cell_type": "code",
   "execution_count": 12,
   "metadata": {},
   "outputs": [],
   "source": [
    "cv = StratifiedKFold(n_splits=5, shuffle=True, random_state=42)\n"
   ]
  },
  {
   "cell_type": "markdown",
   "metadata": {},
   "source": [
    "# 4. Train model voi label cua CLASS"
   ]
  },
  {
   "cell_type": "markdown",
   "metadata": {},
   "source": [
    "4.1 Train model (10 class)"
   ]
  },
  {
   "cell_type": "code",
   "execution_count": 13,
   "metadata": {},
   "outputs": [
    {
     "name": "stdout",
     "output_type": "stream",
     "text": [
      "Fitting 5 folds for each of 50 candidates, totalling 250 fits\n",
      ">>> Best params (CLASS): {'rf__bootstrap': False, 'rf__max_depth': 20, 'rf__max_features': 'sqrt', 'rf__min_samples_leaf': 3, 'rf__min_samples_split': 5, 'rf__n_estimators': 286}\n",
      ">>> Best CV acc: 0.8975435047093079\n"
     ]
    }
   ],
   "source": [
    "rnd_c = RandomizedSearchCV(\n",
    "    estimator   = pipe,\n",
    "    param_distributions = param_dist,\n",
    "    n_iter      = 50,\n",
    "    cv          = cv,\n",
    "    scoring     = 'accuracy',\n",
    "    n_jobs      = -1,\n",
    "    verbose     = 2,\n",
    "    random_state= 42\n",
    ")\n",
    "X_train_c = np.vstack([X_tr_c, X_val_c])\n",
    "y_train_c = np.concatenate([y_tr_c, y_val_c])\n",
    "rnd_c.fit(X_train_c, y_train_c)\n",
    "\n",
    "print(\">>> Best params (CLASS):\", rnd_c.best_params_)\n",
    "print(\">>> Best CV acc:\", rnd_c.best_score_)\n"
   ]
  },
  {
   "cell_type": "markdown",
   "metadata": {},
   "source": [
    "4.2 Danh gia tren tap test"
   ]
  },
  {
   "cell_type": "code",
   "execution_count": 15,
   "metadata": {},
   "outputs": [
    {
     "name": "stdout",
     "output_type": "stream",
     "text": [
      "\n",
      "=== TEST (CLASS) ===\n",
      "Accuracy: 0.945679012345679\n",
      "              precision    recall  f1-score   support\n",
      "\n",
      "           0       0.93      0.91      0.92        78\n",
      "           1       0.95      0.94      0.94       109\n",
      "           2       0.82      0.90      0.86        10\n",
      "           3       0.92      0.92      0.92        12\n",
      "           4       0.88      0.82      0.85        17\n",
      "           5       0.98      1.00      0.99        58\n",
      "           6       0.98      0.98      0.98        45\n",
      "           7       0.88      1.00      0.93        14\n",
      "           8       1.00      1.00      1.00        14\n",
      "           9       0.94      0.96      0.95        48\n",
      "\n",
      "    accuracy                           0.95       405\n",
      "   macro avg       0.93      0.94      0.93       405\n",
      "weighted avg       0.95      0.95      0.95       405\n",
      "\n",
      "[[ 71   3   2   0   1   0   0   0   0   1]\n",
      " [  1 102   0   1   1   1   1   2   0   0]\n",
      " [  1   0   9   0   0   0   0   0   0   0]\n",
      " [  0   1   0  11   0   0   0   0   0   0]\n",
      " [  0   1   0   0  14   0   0   0   0   2]\n",
      " [  0   0   0   0   0  58   0   0   0   0]\n",
      " [  1   0   0   0   0   0  44   0   0   0]\n",
      " [  0   0   0   0   0   0   0  14   0   0]\n",
      " [  0   0   0   0   0   0   0   0  14   0]\n",
      " [  2   0   0   0   0   0   0   0   0  46]]\n"
     ]
    }
   ],
   "source": [
    "X_valtest_c = np.vstack([X_test_c, X_val_c])\n",
    "y_valtest_c = np.concatenate([y_test_c, y_val_c])\n",
    "best_c = rnd_c.best_estimator_\n",
    "y_pred_c = best_c.predict(X_valtest_c)\n",
    "\n",
    "print(\"\\n=== TEST (CLASS) ===\")\n",
    "print(\"Accuracy:\", accuracy_score(y_valtest_c, y_pred_c))\n",
    "print(classification_report(y_valtest_c, y_pred_c))\n",
    "print(confusion_matrix(y_valtest_c, y_pred_c))\n"
   ]
  },
  {
   "cell_type": "markdown",
   "metadata": {},
   "source": [
    "# 5. Train model voi label cua NSP"
   ]
  },
  {
   "cell_type": "markdown",
   "metadata": {},
   "source": [
    "5.1 Train model (NSP)"
   ]
  },
  {
   "cell_type": "code",
   "execution_count": 16,
   "metadata": {},
   "outputs": [
    {
     "name": "stdout",
     "output_type": "stream",
     "text": [
      "Fitting 5 folds for each of 50 candidates, totalling 250 fits\n",
      ">>> Best params (NSP): {'rf__bootstrap': False, 'rf__max_depth': 26, 'rf__max_features': 'sqrt', 'rf__min_samples_leaf': 2, 'rf__min_samples_split': 3, 'rf__n_estimators': 143}\n",
      ">>> Best CV acc: 0.9419600016403976\n"
     ]
    }
   ],
   "source": [
    "rnd_n = RandomizedSearchCV(\n",
    "    estimator   = pipe,\n",
    "    param_distributions = param_dist,\n",
    "    n_iter      = 50,\n",
    "    cv          = cv,\n",
    "    scoring     = 'accuracy',\n",
    "    n_jobs      = -1,\n",
    "    verbose     = 2,\n",
    "    random_state= 42\n",
    ")\n",
    "X_train_n = np.vstack([X_tr_n, X_val_n])\n",
    "y_train_n = np.concatenate([y_tr_n, y_val_n])\n",
    "rnd_n.fit(X_train_n, y_train_n)\n",
    "\n",
    "print(\">>> Best params (NSP):\", rnd_n.best_params_)\n",
    "print(\">>> Best CV acc:\", rnd_n.best_score_)\n"
   ]
  },
  {
   "cell_type": "markdown",
   "metadata": {},
   "source": [
    "5.2 Danh gia tren tap test (NSP)"
   ]
  },
  {
   "cell_type": "code",
   "execution_count": 17,
   "metadata": {},
   "outputs": [
    {
     "name": "stdout",
     "output_type": "stream",
     "text": [
      "\n",
      "=== TEST (NSP) ===\n",
      "Accuracy: 0.9654320987654321\n",
      "              precision    recall  f1-score   support\n",
      "\n",
      "           0       0.98      0.97      0.98       310\n",
      "           1       0.89      0.93      0.91        67\n",
      "           2       0.97      1.00      0.98        28\n",
      "\n",
      "    accuracy                           0.97       405\n",
      "   macro avg       0.94      0.97      0.95       405\n",
      "weighted avg       0.97      0.97      0.97       405\n",
      "\n",
      "[[301   8   1]\n",
      " [  5  62   0]\n",
      " [  0   0  28]]\n"
     ]
    }
   ],
   "source": [
    "X_valtest_n = np.vstack([X_test_n, X_val_n])\n",
    "y_valtest_n = np.concatenate([y_test_n, y_val_n])\n",
    "best_n = rnd_n.best_estimator_\n",
    "y_pred_n = best_n.predict(X_valtest_n)\n",
    "\n",
    "print(\"\\n=== TEST (NSP) ===\")\n",
    "print(\"Accuracy:\", accuracy_score(y_valtest_n, y_pred_n))\n",
    "print(classification_report(y_valtest_n, y_pred_n))\n",
    "print(confusion_matrix(y_valtest_n, y_pred_n))\n"
   ]
  }
 ],
 "metadata": {
  "kernelspec": {
   "display_name": "Python 3",
   "language": "python",
   "name": "python3"
  },
  "language_info": {
   "codemirror_mode": {
    "name": "ipython",
    "version": 3
   },
   "file_extension": ".py",
   "mimetype": "text/x-python",
   "name": "python",
   "nbconvert_exporter": "python",
   "pygments_lexer": "ipython3",
   "version": "3.13.1"
  }
 },
 "nbformat": 4,
 "nbformat_minor": 2
}
